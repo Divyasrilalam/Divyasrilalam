{
  "nbformat": 4,
  "nbformat_minor": 0,
  "metadata": {
    "colab": {
      "name": "practice 1-oop",
      "provenance": [],
      "authorship_tag": "ABX9TyMl07JFinrJmfCBLnBn6K1r",
      "include_colab_link": true
    },
    "kernelspec": {
      "name": "python3",
      "display_name": "Python 3"
    },
    "language_info": {
      "name": "python"
    }
  },
  "cells": [
    {
      "cell_type": "markdown",
      "metadata": {
        "id": "view-in-github",
        "colab_type": "text"
      },
      "source": [
        "<a href=\"https://colab.research.google.com/github/Divyasrilalam/oop-practice/blob/main/practice_1_oop.ipynb\" target=\"_parent\"><img src=\"https://colab.research.google.com/assets/colab-badge.svg\" alt=\"Open In Colab\"/></a>"
      ]
    },
    {
      "cell_type": "code",
      "metadata": {
        "colab": {
          "base_uri": "https://localhost:8080/"
        },
        "id": "SGS3Zi0WhoDN",
        "outputId": "c47b6021-dd0f-4dc9-a6d3-9ca1cbdd9959"
      },
      "source": [
        "sum = 40\n",
        "sum = 40.5\n",
        "var1 = \" Test\"\n",
        "var2 = True\n",
        "\n",
        "print(sum,var1,var2)"
      ],
      "execution_count": null,
      "outputs": [
        {
          "output_type": "stream",
          "text": [
            "40.5  Test True\n"
          ],
          "name": "stdout"
        }
      ]
    },
    {
      "cell_type": "code",
      "metadata": {
        "colab": {
          "base_uri": "https://localhost:8080/"
        },
        "id": "5y3s0Q_q6cYm",
        "outputId": "a12c27d4-0511-48c6-e497-3fd96d3b240b"
      },
      "source": [
        "myName = \"IIIT Dharwad\"\n",
        "combination = myName + \" \" + myName\n",
        "print(combination)"
      ],
      "execution_count": null,
      "outputs": [
        {
          "output_type": "stream",
          "text": [
            "IIIT Dharwad IIIT Dharwad\n"
          ],
          "name": "stdout"
        }
      ]
    },
    {
      "cell_type": "code",
      "metadata": {
        "colab": {
          "base_uri": "https://localhost:8080/"
        },
        "id": "LjlYlGBumFjL",
        "outputId": "4bd820a2-dab4-4e8c-883d-53aca4ce2d2b"
      },
      "source": [
        "mySite,myBlog = \"https://www.hobbybytes.in\",\"https://www.hobbybytes.com\"\n",
        "\n",
        "print(mySite,myBlog)\n",
        "\n",
        "\n"
      ],
      "execution_count": null,
      "outputs": [
        {
          "output_type": "stream",
          "text": [
            "https://www.hobbybytes.in https://www.hobbybytes.com\n"
          ],
          "name": "stdout"
        }
      ]
    },
    {
      "cell_type": "code",
      "metadata": {
        "colab": {
          "base_uri": "https://localhost:8080/",
          "height": 180
        },
        "id": "sqbu_CTSmbvO",
        "outputId": "00f9c034-5193-42e8-f5c9-73350be374d9"
      },
      "source": [
        "mySite,myBlog = \"https://www.hobbybytes.in\"\n",
        "print(mySite,myBlog)"
      ],
      "execution_count": null,
      "outputs": [
        {
          "output_type": "error",
          "ename": "ValueError",
          "evalue": "ignored",
          "traceback": [
            "\u001b[0;31m---------------------------------------------------------------------------\u001b[0m",
            "\u001b[0;31mValueError\u001b[0m                                Traceback (most recent call last)",
            "\u001b[0;32m<ipython-input-5-8c77334d3301>\u001b[0m in \u001b[0;36m<module>\u001b[0;34m()\u001b[0m\n\u001b[0;32m----> 1\u001b[0;31m \u001b[0mmySite\u001b[0m\u001b[0;34m,\u001b[0m\u001b[0mmyBlog\u001b[0m \u001b[0;34m=\u001b[0m \u001b[0;34m\"https://www.hobbybytes.in\"\u001b[0m\u001b[0;34m\u001b[0m\u001b[0;34m\u001b[0m\u001b[0m\n\u001b[0m\u001b[1;32m      2\u001b[0m \u001b[0mprint\u001b[0m\u001b[0;34m(\u001b[0m\u001b[0mmySite\u001b[0m\u001b[0;34m,\u001b[0m\u001b[0mmyBlog\u001b[0m\u001b[0;34m)\u001b[0m\u001b[0;34m\u001b[0m\u001b[0;34m\u001b[0m\u001b[0m\n",
            "\u001b[0;31mValueError\u001b[0m: too many values to unpack (expected 2)"
          ]
        }
      ]
    },
    {
      "cell_type": "code",
      "metadata": {
        "colab": {
          "base_uri": "https://localhost:8080/"
        },
        "id": "Gf-KZBn6pE5U",
        "outputId": "fd72c225-121b-4cd1-96cf-34699f13a042"
      },
      "source": [
        "\n",
        "\n",
        "\n",
        "courseName=\" OOP Course\"\n",
        "students=125\n",
        "credits=4\n",
        "\n",
        "print(students)\n",
        "print(courseName)\n",
        "print(credits)"
      ],
      "execution_count": null,
      "outputs": [
        {
          "output_type": "stream",
          "text": [
            "125\n",
            " OOP Course\n",
            "4\n"
          ],
          "name": "stdout"
        }
      ]
    },
    {
      "cell_type": "code",
      "metadata": {
        "colab": {
          "base_uri": "https://localhost:8080/"
        },
        "id": "fL6OL0Yyvnqt",
        "outputId": "4fe7e037-7587-4816-e2c5-25d4aa9d509a"
      },
      "source": [
        "m = (1 == True)\n",
        "y = (1 == False)\n",
        "l = True + 5\n",
        "m = False + 40\n",
        "\n",
        "print(\"m is\", m)\n",
        "print(\"y is\", y)\n",
        "print(\"l:\", l)\n",
        "print(\"m:\", m)"
      ],
      "execution_count": null,
      "outputs": [
        {
          "output_type": "stream",
          "text": [
            "m is 40\n",
            "y is False\n",
            "l: 6\n",
            "m: 40\n"
          ],
          "name": "stdout"
        }
      ]
    },
    {
      "cell_type": "code",
      "metadata": {
        "colab": {
          "base_uri": "https://localhost:8080/",
          "height": 129
        },
        "id": "U9xlj5y4wT3G",
        "outputId": "cc31ad31-dad5-4707-82dc-fb3e459f67d6"
      },
      "source": [
        "\n",
        "  food = \"Available\"\n",
        "junkfood = None\n",
        "\n",
        "def menu(x):\n",
        "    if x == food:\n",
        "        print(food)\n",
        "    else:\n",
        "        print(not available)\n",
        "\n",
        "menu(food)\n",
        "menu(junkfood)"
      ],
      "execution_count": null,
      "outputs": [
        {
          "output_type": "error",
          "ename": "IndentationError",
          "evalue": "ignored",
          "traceback": [
            "\u001b[0;36m  File \u001b[0;32m\"<ipython-input-14-959d7cbe8dc2>\"\u001b[0;36m, line \u001b[0;32m2\u001b[0m\n\u001b[0;31m    food = \"Available\"\u001b[0m\n\u001b[0m    ^\u001b[0m\n\u001b[0;31mIndentationError\u001b[0m\u001b[0;31m:\u001b[0m unexpected indent\n"
          ]
        }
      ]
    },
    {
      "cell_type": "code",
      "metadata": {
        "colab": {
          "base_uri": "https://localhost:8080/"
        },
        "id": "tZKnlirptxBJ",
        "outputId": "d9ef5134-ea12-4bd1-fe8e-5e7c9898b094"
      },
      "source": [
        "# Note:  different values for the id\n",
        "\n",
        "b = 2      # refer to same id\n",
        "\n",
        "print('id(2) =', id(2))\n",
        "\n",
        "print('id(b) =', id(b))\n",
        "\n",
        "\n",
        "b = b+1\n",
        "\n",
        "print('id(b) =', id(b))\n",
        "\n",
        "print('id(3) =', id(3))    # refer to different id"
      ],
      "execution_count": null,
      "outputs": [
        {
          "output_type": "stream",
          "text": [
            "id(2) = 94501054081568\n",
            "id(b) = 94501054081568\n",
            "id(b) = 94501054081600\n",
            "id(3) = 94501054081600\n"
          ],
          "name": "stdout"
        }
      ]
    },
    {
      "cell_type": "code",
      "metadata": {
        "colab": {
          "base_uri": "https://localhost:8080/"
        },
        "id": "CooF5rPLSSx0",
        "outputId": "aa28892c-d7c1-4851-a87b-6c0a7142f834"
      },
      "source": [
        "def outer_function():\n",
        "    a = 20\n",
        "\n",
        "    def inner_function():\n",
        "        a = 30\n",
        "        print('a =', a)\n",
        "\n",
        "    inner_function()\n",
        "    print('a =', a)\n",
        "\n",
        "\n",
        "a = 10\n",
        "outer_function()\n",
        "print('a =', a)"
      ],
      "execution_count": 1,
      "outputs": [
        {
          "output_type": "stream",
          "text": [
            "a = 30\n",
            "a = 20\n",
            "a = 10\n"
          ],
          "name": "stdout"
        }
      ]
    },
    {
      "cell_type": "code",
      "metadata": {
        "colab": {
          "base_uri": "https://localhost:8080/"
        },
        "id": "apPPJN9vSkb9",
        "outputId": "0de5e2ec-0f13-4aba-d3c1-e7cf19de7c12"
      },
      "source": [
        "def outer_function():\n",
        "    global a\n",
        "    a = 20\n",
        "\n",
        "    def inner_function():\n",
        "        global a\n",
        "        a = 30\n",
        "        print('a =', a)\n",
        "\n",
        "    inner_function()\n",
        "    print('a =', a)\n",
        "\n",
        "\n",
        "a = 10\n",
        "outer_function()\n",
        "print('a =', a)"
      ],
      "execution_count": 2,
      "outputs": [
        {
          "output_type": "stream",
          "text": [
            "a = 30\n",
            "a = 30\n",
            "a = 30\n"
          ],
          "name": "stdout"
        }
      ]
    },
    {
      "cell_type": "code",
      "metadata": {
        "colab": {
          "base_uri": "https://localhost:8080/"
        },
        "id": "HT2LqDdbUG63",
        "outputId": "8f5e4349-53df-4902-9a7b-eae640791f56"
      },
      "source": [
        "def outer_function():\n",
        "    a = 25\n",
        "\n",
        "    def inner_function():\n",
        "        global a\n",
        "        a = 40\n",
        "        print('a =', a)\n",
        "\n",
        "    inner_function()\n",
        "    print('a =', a)\n",
        "\n",
        "\n",
        "a = 10\n",
        "outer_function()\n",
        "print('a =', a)"
      ],
      "execution_count": 3,
      "outputs": [
        {
          "output_type": "stream",
          "text": [
            "a = 40\n",
            "a = 25\n",
            "a = 40\n"
          ],
          "name": "stdout"
        }
      ]
    },
    {
      "cell_type": "code",
      "metadata": {
        "colab": {
          "base_uri": "https://localhost:8080/"
        },
        "id": "dsFfPioWUVlp",
        "outputId": "d27115b3-170e-4f94-83f2-b23930a21c8e"
      },
      "source": [
        "def outer_function():\n",
        "    global a\n",
        "    a = 20\n",
        "\n",
        "    def inner_function():\n",
        "        a = 30\n",
        "        print('a =', a)\n",
        "\n",
        "    inner_function()\n",
        "    print('a =', a)\n",
        "\n",
        "\n",
        "a = 10\n",
        "outer_function()\n",
        "print('a =', a)"
      ],
      "execution_count": 4,
      "outputs": [
        {
          "output_type": "stream",
          "text": [
            "a = 30\n",
            "a = 20\n",
            "a = 20\n"
          ],
          "name": "stdout"
        }
      ]
    }
  ]
}